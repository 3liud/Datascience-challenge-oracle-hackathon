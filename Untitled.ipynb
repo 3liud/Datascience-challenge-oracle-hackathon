{
 "cells": [
  {
   "cell_type": "code",
   "execution_count": null,
   "metadata": {},
   "outputs": [],
   "source": [
    "import tweepy\n",
    "import pandas as pd\n",
    "consumer_key = \"KhCkUlnoLlyFcK5ohfVHmTVRf\"\n",
    "consumer_secret = \"dyUX8Sr3UCQlVLfMLMAlu0hPYW7aHXqXFMOIQIJigIZyacYMlJ\"\n",
    "access_token = \"1126016910-y8COolRkm2chkcEGWoYV1eVlxyyvoH8ZjHZAOXM\"\n",
    "access_token_secret = \"Sx7FjmXgHtSAs3I4nJ4rpGZQxktbXM4x0O8p8S3QtPZeb\"\n",
    "\n",
    "auth = tweepy.OAuthHandler(consumer_key, consumer_secret)\n",
    "auth.set_access_token(access_token, access_token_secret)\n",
    "api = tweepy.API(auth,wait_on_rate_limit=True)\n",
    "\n",
    "# create list to append tweets to\n",
    "tweets = []\n",
    "\n",
    "# append all tweet data to list\n",
    "for tweet in tweepy.Cursor(api.search,q='#BigFourAgenda OR #bigfouragenda OR Big Four Agenda',count=10000000,\n",
    "                       until=\"2019-03-20\").items(10000000):\n",
    "    tweets.append(tweet)\n",
    "\n",
    "# convert 'tweets' list to pandas.DataFrame\n",
    "tweets_df = pd.DataFrame(vars(tweets[i]) for i in range(len(tweets)))\n",
    "\n",
    "# define file path (string) to save csv file to\n",
    "FILE_PATH = 'io2.csv'\n",
    "\n",
    "# use pandas to save dataframe to csv\n",
    "tweets_df.to_csv(FILE_PATH)"
   ]
  },
  {
   "cell_type": "code",
   "execution_count": null,
   "metadata": {},
   "outputs": [],
   "source": []
  }
 ],
 "metadata": {
  "kernelspec": {
   "display_name": "Python 3",
   "language": "python",
   "name": "python3"
  },
  "language_info": {
   "codemirror_mode": {
    "name": "ipython",
    "version": 3
   },
   "file_extension": ".py",
   "mimetype": "text/x-python",
   "name": "python",
   "nbconvert_exporter": "python",
   "pygments_lexer": "ipython3",
   "version": "3.7.2+"
  }
 },
 "nbformat": 4,
 "nbformat_minor": 2
}
